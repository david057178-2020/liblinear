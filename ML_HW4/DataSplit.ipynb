{
 "cells": [
  {
   "cell_type": "code",
   "execution_count": 1,
   "metadata": {},
   "outputs": [],
   "source": [
    "import numpy as np\n",
    "import re\n",
    "\n",
    "RFPath = \".\\ML_HW4_train_ZSpace.txt\"\n",
    "DtrainPath = \".\\ML_HW4_Dtrain.txt\"\n",
    "DvalPath = \".\\ML_HW4_Dval.txt\""
   ]
  },
  {
   "cell_type": "code",
   "execution_count": 2,
   "metadata": {},
   "outputs": [],
   "source": [
    "dataSets = []\n",
    "with open(RFPath) as file:\n",
    "   for line in file:\n",
    "      dataSets.append(line)\n",
    "\n",
    "wFile = open(DtrainPath, 'w+')\n",
    "for i in dataSets[:120]:\n",
    "    wFile.write(i)\n",
    "wFile. close()   \n"
   ]
  },
  {
   "cell_type": "code",
   "execution_count": 3,
   "metadata": {},
   "outputs": [],
   "source": [
    "wFile = open(DvalPath, 'w+')\n",
    "for i in dataSets[-80:]:\n",
    "    wFile.write(i)\n",
    "wFile. close()   "
   ]
  },
  {
   "cell_type": "code",
   "execution_count": null,
   "metadata": {},
   "outputs": [],
   "source": []
  }
 ],
 "metadata": {
  "kernelspec": {
   "display_name": "Python 3",
   "language": "python",
   "name": "python3"
  },
  "language_info": {
   "codemirror_mode": {
    "name": "ipython",
    "version": 3
   },
   "file_extension": ".py",
   "mimetype": "text/x-python",
   "name": "python",
   "nbconvert_exporter": "python",
   "pygments_lexer": "ipython3",
   "version": "3.7.0"
  }
 },
 "nbformat": 4,
 "nbformat_minor": 2
}
