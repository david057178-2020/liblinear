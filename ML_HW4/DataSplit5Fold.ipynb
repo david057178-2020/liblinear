{
 "cells": [
  {
   "cell_type": "code",
   "execution_count": 1,
   "metadata": {},
   "outputs": [],
   "source": [
    "import numpy as np\n",
    "import re\n",
    "\n",
    "RFPath = \".\\ML_HW4_train_ZSpace.txt\"\n",
    "D1Path = \".\\P20\\ML_HW4_D1.txt\"\n",
    "D2Path = \".\\P20\\ML_HW4_D2.txt\"\n",
    "D3Path = \".\\P20\\ML_HW4_D3.txt\"\n",
    "D4Path = \".\\P20\\ML_HW4_D4.txt\"\n",
    "D5Path = \".\\P20\\ML_HW4_D5.txt\""
   ]
  },
  {
   "cell_type": "code",
   "execution_count": 2,
   "metadata": {},
   "outputs": [],
   "source": [
    "dataSets = []\n",
    "with open(RFPath) as file:\n",
    "   for line in file:\n",
    "      dataSets.append(line)\n",
    "\n",
    "wFile = open(D1Path, 'w+')\n",
    "for i in dataSets[:40]:\n",
    "    wFile.write(i)\n",
    "wFile. close()   \n",
    "\n",
    "wFile = open(D2Path, 'w+')\n",
    "for i in dataSets[40:80]:\n",
    "    wFile.write(i)\n",
    "wFile. close()\n",
    "\n",
    "wFile = open(D3Path, 'w+')\n",
    "for i in dataSets[80:120]:\n",
    "    wFile.write(i)\n",
    "wFile. close()\n",
    "\n",
    "wFile = open(D4Path, 'w+')\n",
    "for i in dataSets[120:160]:\n",
    "    wFile.write(i)\n",
    "wFile. close()\n",
    "\n",
    "wFile = open(D5Path, 'w+')\n",
    "for i in dataSets[160:200]:\n",
    "    wFile.write(i)\n",
    "wFile. close()\n"
   ]
  },
  {
   "cell_type": "code",
   "execution_count": null,
   "metadata": {},
   "outputs": [],
   "source": []
  }
 ],
 "metadata": {
  "kernelspec": {
   "display_name": "Python 3",
   "language": "python",
   "name": "python3"
  },
  "language_info": {
   "codemirror_mode": {
    "name": "ipython",
    "version": 3
   },
   "file_extension": ".py",
   "mimetype": "text/x-python",
   "name": "python",
   "nbconvert_exporter": "python",
   "pygments_lexer": "ipython3",
   "version": "3.7.0"
  }
 },
 "nbformat": 4,
 "nbformat_minor": 2
}
