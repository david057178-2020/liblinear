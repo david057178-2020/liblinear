{
 "cells": [
  {
   "cell_type": "code",
   "execution_count": 1,
   "metadata": {},
   "outputs": [],
   "source": [
    "import numpy as np\n",
    "import re\n",
    "\n",
    "RFPath = \".\\ML_HW4_train.txt\"\n",
    "WFPath = \".\\ML_HW4_train_ZSpace.txt\"\n",
    "#RFPath = \".\\ML_HW4_test.txt\"\n",
    "#WFPath = \".\\ML_HW4_test_ZSpace.txt\"\n",
    "threshold = 1.0"
   ]
  },
  {
   "cell_type": "code",
   "execution_count": 2,
   "metadata": {},
   "outputs": [],
   "source": [
    "dataSets = []\n",
    "with open(RFPath) as file:\n",
    "   for line in file:\n",
    "      line = line.strip().split()\n",
    "      dataSets.append(line)\n",
    "\n",
    "dataSets = np.array(dataSets, dtype = float)\n",
    "file.close()\n",
    "\n",
    "N = dataSets.shape[0]\n",
    "Dim = dataSets.shape[1]-1\n",
    "X = dataSets[:, :-1]\n",
    "Y = dataSets[:, -1]"
   ]
  },
  {
   "cell_type": "code",
   "execution_count": 3,
   "metadata": {},
   "outputs": [],
   "source": [
    "Z_Data = []\n",
    "for data in X:\n",
    "    Z = data\n",
    "    for i in range(Dim):\n",
    "        for j in range(i, Dim):\n",
    "            Z = np.append(Z, data[i]*data[j])\n",
    "    Z_Data.append(Z)\n",
    "\n",
    "Z_Data = np.array(Z_Data, dtype = np.ndarray)\n",
    "\n",
    "threshold_col = np.ones(Z_Data.shape[0])\n",
    "Z_Data = np.insert(Z_Data, 0, threshold_col, 1)\n",
    "Z_Data = np.insert(Z_Data, 0, Y, 1)"
   ]
  },
  {
   "cell_type": "code",
   "execution_count": 4,
   "metadata": {
    "scrolled": true
   },
   "outputs": [],
   "source": [
    "wFile = open(WFPath, 'w+')\n",
    "\n",
    "for data in Z_Data:\n",
    "    _str = \"\"\n",
    "    if data[0] == 1.0:\n",
    "        _str = _str + \"+1 \"\n",
    "    else:\n",
    "        _str = _str + \"-1 \"\n",
    "\n",
    "    c = 1\n",
    "    for i in data[1:]:\n",
    "        _str = _str + str(c) + \":\" + str(i) + \" \"\n",
    "        c = c + 1\n",
    "    _str = _str + \"\\n\"\n",
    "    wFile.write(_str)\n",
    "    \n",
    "wFile. close()    "
   ]
  },
  {
   "cell_type": "code",
   "execution_count": null,
   "metadata": {},
   "outputs": [],
   "source": []
  }
 ],
 "metadata": {
  "kernelspec": {
   "display_name": "Python 3",
   "language": "python",
   "name": "python3"
  },
  "language_info": {
   "codemirror_mode": {
    "name": "ipython",
    "version": 3
   },
   "file_extension": ".py",
   "mimetype": "text/x-python",
   "name": "python",
   "nbconvert_exporter": "python",
   "pygments_lexer": "ipython3",
   "version": "3.7.0"
  }
 },
 "nbformat": 4,
 "nbformat_minor": 2
}
